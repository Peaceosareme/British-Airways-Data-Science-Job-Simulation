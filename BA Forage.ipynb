{
 "cells": [
  {
   "cell_type": "code",
   "execution_count": 1,
   "id": "6bcbb74c",
   "metadata": {},
   "outputs": [],
   "source": [
    "import requests\n",
    "from bs4 import BeautifulSoup\n",
    "import pandas as pd"
   ]
  },
  {
   "cell_type": "code",
   "execution_count": 21,
   "id": "186d4424",
   "metadata": {},
   "outputs": [
    {
     "name": "stdout",
     "output_type": "stream",
     "text": [
      "Scraping page 1\n",
      "   ---> 100 total reviews\n",
      "Scraping page 2\n",
      "   ---> 200 total reviews\n",
      "Scraping page 3\n",
      "   ---> 300 total reviews\n",
      "Scraping page 4\n",
      "   ---> 400 total reviews\n",
      "Scraping page 5\n",
      "   ---> 500 total reviews\n",
      "Scraping page 6\n",
      "   ---> 600 total reviews\n",
      "Scraping page 7\n",
      "   ---> 700 total reviews\n",
      "Scraping page 8\n",
      "   ---> 800 total reviews\n",
      "Scraping page 9\n",
      "   ---> 900 total reviews\n",
      "Scraping page 10\n",
      "   ---> 1000 total reviews\n",
      "Scraping page 11\n",
      "   ---> 1100 total reviews\n",
      "Scraping page 12\n",
      "   ---> 1200 total reviews\n",
      "Scraping page 13\n",
      "   ---> 1300 total reviews\n",
      "Scraping page 14\n",
      "   ---> 1400 total reviews\n",
      "Scraping page 15\n",
      "   ---> 1500 total reviews\n"
     ]
    }
   ],
   "source": [
    "base_url = \"https://www.airlinequality.com/airline-reviews/british-airways\"\n",
    "pages = 15\n",
    "page_size = 100\n",
    "\n",
    "reviews = []\n",
    "\n",
    "# for i in range(1, pages + 1):\n",
    "for i in range(1, pages + 1):\n",
    "\n",
    "    print(f\"Scraping page {i}\")\n",
    "\n",
    "    # Create URL to collect links from paginated data\n",
    "    url = f\"{base_url}/page/{i}/?sortby=post_date%3ADesc&pagesize={page_size}\"\n",
    "\n",
    "    # Collect HTML data from this page\n",
    "    response = requests.get(url)\n",
    "\n",
    "    # Parse content\n",
    "    content = response.content\n",
    "    parsed_content = BeautifulSoup(content, 'html.parser')\n",
    "    for para in parsed_content.find_all(\"div\", {\"class\": \"text_content\"}):\n",
    "        reviews.append(para.get_text())\n",
    "    \n",
    "    print(f\"   ---> {len(reviews)} total reviews\")"
   ]
  },
  {
   "cell_type": "code",
   "execution_count": 22,
   "id": "169d0ea2",
   "metadata": {},
   "outputs": [
    {
     "data": {
      "text/html": [
       "<div>\n",
       "<style scoped>\n",
       "    .dataframe tbody tr th:only-of-type {\n",
       "        vertical-align: middle;\n",
       "    }\n",
       "\n",
       "    .dataframe tbody tr th {\n",
       "        vertical-align: top;\n",
       "    }\n",
       "\n",
       "    .dataframe thead th {\n",
       "        text-align: right;\n",
       "    }\n",
       "</style>\n",
       "<table border=\"1\" class=\"dataframe\">\n",
       "  <thead>\n",
       "    <tr style=\"text-align: right;\">\n",
       "      <th></th>\n",
       "      <th>reviews</th>\n",
       "    </tr>\n",
       "  </thead>\n",
       "  <tbody>\n",
       "    <tr>\n",
       "      <th>0</th>\n",
       "      <td>Not Verified |  Boarded on time, but it took a...</td>\n",
       "    </tr>\n",
       "    <tr>\n",
       "      <th>1</th>\n",
       "      <td>✅ Trip Verified |  5 days before the flight, w...</td>\n",
       "    </tr>\n",
       "    <tr>\n",
       "      <th>2</th>\n",
       "      <td>Not Verified |  \\r\\nWe traveled to Lisbon for ...</td>\n",
       "    </tr>\n",
       "    <tr>\n",
       "      <th>3</th>\n",
       "      <td>✅ Trip Verified |  Booked a flight from Buchar...</td>\n",
       "    </tr>\n",
       "    <tr>\n",
       "      <th>4</th>\n",
       "      <td>✅ Trip Verified |  Booked online months ago an...</td>\n",
       "    </tr>\n",
       "  </tbody>\n",
       "</table>\n",
       "</div>"
      ],
      "text/plain": [
       "                                             reviews\n",
       "0  Not Verified |  Boarded on time, but it took a...\n",
       "1  ✅ Trip Verified |  5 days before the flight, w...\n",
       "2  Not Verified |  \\r\\nWe traveled to Lisbon for ...\n",
       "3  ✅ Trip Verified |  Booked a flight from Buchar...\n",
       "4  ✅ Trip Verified |  Booked online months ago an..."
      ]
     },
     "execution_count": 22,
     "metadata": {},
     "output_type": "execute_result"
    }
   ],
   "source": [
    "df = pd.DataFrame()\n",
    "df[\"reviews\"] = reviews\n",
    "df.head()"
   ]
  },
  {
   "cell_type": "code",
   "execution_count": 24,
   "id": "22cbc95c",
   "metadata": {},
   "outputs": [],
   "source": [
    "df[['Verified','Reviews']]=df['reviews'].str.split('|', expand=True)"
   ]
  },
  {
   "cell_type": "code",
   "execution_count": 25,
   "id": "b8ca0ce2",
   "metadata": {},
   "outputs": [],
   "source": [
    "df.drop(columns=['reviews'], inplace=True)"
   ]
  },
  {
   "cell_type": "code",
   "execution_count": 26,
   "id": "bb572a25",
   "metadata": {},
   "outputs": [],
   "source": [
    "df.to_csv(\"C:/Users/dell/Downloads/data/BA_reviews.csv\")"
   ]
  },
  {
   "cell_type": "code",
   "execution_count": 2,
   "id": "0a6e20d1",
   "metadata": {},
   "outputs": [],
   "source": [
    "data=pd.read_csv(\"C:/Users/dell/Downloads/data/BA_reviews.csv\", index_col=0)\n",
    "data['id']=data.index"
   ]
  },
  {
   "cell_type": "code",
   "execution_count": 3,
   "id": "197040c7",
   "metadata": {},
   "outputs": [],
   "source": [
    "idd=data.pop('id')\n",
    "data.insert(0, 'Id',idd)"
   ]
  },
  {
   "cell_type": "code",
   "execution_count": 4,
   "id": "698cc356",
   "metadata": {},
   "outputs": [
    {
     "data": {
      "text/plain": [
       "✅ Trip Verified                                                                                                                                                                                                                                                                                                                                                                                                                                                      1151\n",
       "Not Verified                                                                                                                                                                                                                                                                                                                                                                                                                                                          229\n",
       "✅ Verified Review                                                                                                                                                                                                                                                                                                                                                                                                                                                     114\n",
       "❎ Not Verified                                                                                                                                                                                                                                                                                                                                                                                                                                                          5\n",
       "Two regular an uneventful flights. Curiously enough, though, with the exact same crew! The crew were very nice and the service is very attentive and polite, but I just cannot take it that British Airways has chosen to provide a service just like low cost carriers, where everything is charged for, apart from luggage. On the second leg of the trip, the aircraft felt extremely warm and for some odd reason, row 6 where I was sitting did not have AC.       1\n",
       "Name: Verified, dtype: int64"
      ]
     },
     "execution_count": 4,
     "metadata": {},
     "output_type": "execute_result"
    }
   ],
   "source": [
    "data['Verified'].value_counts()"
   ]
  },
  {
   "cell_type": "code",
   "execution_count": 5,
   "id": "d666f632",
   "metadata": {},
   "outputs": [],
   "source": [
    "data.dropna(inplace=True)"
   ]
  },
  {
   "cell_type": "code",
   "execution_count": 6,
   "id": "85a6ac6f",
   "metadata": {},
   "outputs": [
    {
     "data": {
      "text/html": [
       "<div>\n",
       "<style scoped>\n",
       "    .dataframe tbody tr th:only-of-type {\n",
       "        vertical-align: middle;\n",
       "    }\n",
       "\n",
       "    .dataframe tbody tr th {\n",
       "        vertical-align: top;\n",
       "    }\n",
       "\n",
       "    .dataframe thead th {\n",
       "        text-align: right;\n",
       "    }\n",
       "</style>\n",
       "<table border=\"1\" class=\"dataframe\">\n",
       "  <thead>\n",
       "    <tr style=\"text-align: right;\">\n",
       "      <th></th>\n",
       "      <th>Id</th>\n",
       "      <th>Verified</th>\n",
       "      <th>Reviews</th>\n",
       "    </tr>\n",
       "  </thead>\n",
       "  <tbody>\n",
       "    <tr>\n",
       "      <th>0</th>\n",
       "      <td>0</td>\n",
       "      <td>Not Verified</td>\n",
       "      <td>Boarded on time, but it took ages to get to ...</td>\n",
       "    </tr>\n",
       "    <tr>\n",
       "      <th>1</th>\n",
       "      <td>1</td>\n",
       "      <td>✅ Trip Verified</td>\n",
       "      <td>5 days before the flight, we were advised by...</td>\n",
       "    </tr>\n",
       "    <tr>\n",
       "      <th>2</th>\n",
       "      <td>2</td>\n",
       "      <td>Not Verified</td>\n",
       "      <td>\\r\\nWe traveled to Lisbon for our dream vaca...</td>\n",
       "    </tr>\n",
       "    <tr>\n",
       "      <th>3</th>\n",
       "      <td>3</td>\n",
       "      <td>✅ Trip Verified</td>\n",
       "      <td>Booked a flight from Bucharest to Manchester...</td>\n",
       "    </tr>\n",
       "    <tr>\n",
       "      <th>4</th>\n",
       "      <td>4</td>\n",
       "      <td>✅ Trip Verified</td>\n",
       "      <td>Booked online months ago and the only hitch ...</td>\n",
       "    </tr>\n",
       "  </tbody>\n",
       "</table>\n",
       "</div>"
      ],
      "text/plain": [
       "   Id          Verified                                            Reviews\n",
       "0   0     Not Verified     Boarded on time, but it took ages to get to ...\n",
       "1   1  ✅ Trip Verified     5 days before the flight, we were advised by...\n",
       "2   2     Not Verified     \\r\\nWe traveled to Lisbon for our dream vaca...\n",
       "3   3  ✅ Trip Verified     Booked a flight from Bucharest to Manchester...\n",
       "4   4  ✅ Trip Verified     Booked online months ago and the only hitch ..."
      ]
     },
     "execution_count": 6,
     "metadata": {},
     "output_type": "execute_result"
    }
   ],
   "source": [
    "data.head()"
   ]
  },
  {
   "cell_type": "code",
   "execution_count": 7,
   "id": "3b70407c",
   "metadata": {},
   "outputs": [],
   "source": [
    "data['Reviews']=data['Reviews'].str.lower()"
   ]
  },
  {
   "cell_type": "code",
   "execution_count": 8,
   "id": "0bc9f73a",
   "metadata": {},
   "outputs": [
    {
     "name": "stdout",
     "output_type": "stream",
     "text": [
      "!\"#$%&'()*+,-./:;<=>?@[\\]^_`{|}~\n"
     ]
    }
   ],
   "source": [
    "import string\n",
    "print(string.punctuation)"
   ]
  },
  {
   "cell_type": "code",
   "execution_count": 9,
   "id": "43befee1",
   "metadata": {},
   "outputs": [],
   "source": [
    "def remove_punctuation(input_string):\n",
    "    # Make a translation table that maps all punctuation characters to None\n",
    "    translator = str.maketrans(\"\", \"\", string.punctuation)\n",
    "\n",
    "    # Apply the translation table to the input string\n",
    "    result = input_string.translate(translator)\n",
    "\n",
    "    return result\n",
    "\n",
    "data['reviews']=data['Reviews'].apply(remove_punctuation)"
   ]
  },
  {
   "cell_type": "code",
   "execution_count": 10,
   "id": "86a7be9b",
   "metadata": {},
   "outputs": [],
   "source": [
    "stop_words=[\"i\", \"me\", \"my\", \"myself\", \"we\", \"our\", \"ours\", \"ourselves\", \"you\", \"your\", \"yours\", \"yourself\",\n",
    "              \"yourselves\", \"he\", \"him\", \"his\", \"himself\", \"she\", \"her\", \"hers\", \"herself\", \"it\", \"its\", \"itself\",\n",
    "              \"they\", \"them\", \"their\", \"theirs\", \"themselves\", \"what\", \"which\", \"who\", \"whom\", \"this\", \"that\", \"these\",\n",
    "              \"those\", \"am\", \"is\", \"are\", \"was\", \"were\", \"be\", \"been\", \"being\", \"have\", \"has\", \"had\", \"having\", \"do\",\n",
    "              \"does\", \"did\", \"doing\", \"a\", \"an\", \"the\", \"and\", \"but\", \"if\", \"or\", \"because\", \"as\", \"until\", \"while\",\n",
    "              \"of\", \"at\", \"by\", \"for\", \"with\", \"about\", \"against\", \"between\", \"into\", \"through\", \"during\", \"before\",\n",
    "              \"after\", \"above\", \"below\", \"to\", \"from\", \"up\", \"down\", \"in\", \"out\", \"on\", \"off\", \"over\", \"under\", \"again\",\n",
    "              \"further\", \"then\", \"once\", \"here\", \"there\", \"when\", \"where\", \"why\", \"how\", \"all\", \"any\", \"both\", \"each\",\n",
    "              \"few\", \"more\", \"most\", \"other\", \"some\", \"such\", \"no\", \"nor\", \"not\", \"only\", \"own\", \"same\", \"so\", \"than\",\n",
    "              \"too\", \"very\", \"s\", \"t\", \"can\", \"will\", \"just\", \"don\", \"should\", \"now\"]\n"
   ]
  },
  {
   "cell_type": "code",
   "execution_count": 11,
   "id": "60ee4782",
   "metadata": {},
   "outputs": [],
   "source": [
    "tokenized=data['reviews'].str.split()"
   ]
  },
  {
   "cell_type": "code",
   "execution_count": 13,
   "id": "3b4ae3e6",
   "metadata": {},
   "outputs": [],
   "source": [
    "final_words=[]\n",
    "for word in tokenized:\n",
    "    if word not in stop_words:\n",
    "        final_words.append(word)"
   ]
  },
  {
   "cell_type": "code",
   "execution_count": 15,
   "id": "d00b1a96",
   "metadata": {},
   "outputs": [],
   "source": [
    "#from nltk.sentiment import SentimentIntensityAnalyzer\n",
    "from nltk.sentiment import SentimentAnalyzer\n",
    "import nltk\n",
    "from tqdm.notebook import tqdm\n",
    "from nltk.sentiment.vader import SentimentIntensityAnalyzer\n",
    "sia = SentimentIntensityAnalyzer()\n",
    "\n",
    "res = {}\n",
    "for i, row in tqdm(data.iterrows(),total=len(data)):\n",
    "    text = row['reviews']\n",
    "    myid = row['Id']\n",
    "    res[myid] = sia.polarity_scores(text)\n"
   ]
  },
  {
   "cell_type": "code",
   "execution_count": 17,
   "id": "92fe70ca",
   "metadata": {},
   "outputs": [],
   "source": [
    "si=pd.DataFrame(res).T\n",
    "si=si.reset_index().rename(columns={'index':'Id'})\n",
    "data=data.merge(si, on='Id')"
   ]
  },
  {
   "cell_type": "code",
   "execution_count": 32,
   "id": "fe2d4fed",
   "metadata": {
    "scrolled": true
   },
   "outputs": [
    {
     "data": {
      "application/vnd.jupyter.widget-view+json": {
       "model_id": "e4ac3e10054846aaae1b99a42a0b4e9c",
       "version_major": 2,
       "version_minor": 0
      },
      "text/plain": [
       "  0%|          | 0/1499 [00:00<?, ?it/s]"
      ]
     },
     "metadata": {},
     "output_type": "display_data"
    }
   ],
   "source": [
    "from transformers import AutoTokenizer\n",
    "from transformers import AutoModelForSequenceClassification\n",
    "from scipy.special import softmax\n",
    "MODEL = f\"cardiffnlp/twitter-roberta-base-sentiment\"\n",
    "tokenizer = AutoTokenizer.from_pretrained(MODEL)\n",
    "model = AutoModelForSequenceClassification.from_pretrained(MODEL)\n",
    "\n",
    "\n",
    "# Define a function to predict sentiment\n",
    "def predict_sentiment(sentence):\n",
    "    encoded_text = tokenizer(sentence, truncation=True, padding='max_length', max_length=512, return_tensors='pt')\n",
    "    output = model(**encoded_text)\n",
    "    scores = output[0][0].detach().numpy()\n",
    "    scores = softmax(scores)\n",
    "    scores_dict = {\n",
    "    'roberta_neg' : scores[0],\n",
    "    'roberta_neu' : scores[1],\n",
    "    'roberta_pos' : scores[2]\n",
    "    }\n",
    "    return scores_dict\n",
    "    #return scores.index(max(scores))\n",
    "\n",
    "# Predict the sentiment of each sentence in the dataset\n",
    "#sentiments = []\n",
    "#for sentence in data[\"reviews\"]:\n",
    " #   sentiment = predict_sentiment(sentence)\n",
    "  #  sentiments.append(sentiment)\n",
    "    \n",
    "rev={}\n",
    "for i, row in tqdm(data.iterrows(), total=len(data)):\n",
    "    text=row['reviews']\n",
    "    myid=row['Id']\n",
    "    rev[myid]=predict_sentiment(text)\n",
    "\n",
    "\n",
    "# Add the sentiment labels to the dataset\n",
    "#data[\"sentiment\"] = sentiments\n",
    "\n",
    "# Print the sentiment labels\n",
    "#print(data[\"sentiment\"].value_counts())\n"
   ]
  },
  {
   "cell_type": "code",
   "execution_count": 34,
   "id": "a06a034e",
   "metadata": {},
   "outputs": [],
   "source": [
    "si=pd.DataFrame(rev).T\n",
    "si=si.reset_index().rename(columns={'index':'Id'})\n",
    "df=data.merge(si, on='Id')"
   ]
  },
  {
   "cell_type": "code",
   "execution_count": 42,
   "id": "f319129d",
   "metadata": {},
   "outputs": [],
   "source": [
    "df.rename(columns={'roberta_neg':'negative','roberta_pos':'positive','roberta_neu':'neutral'}, inplace=True)"
   ]
  },
  {
   "cell_type": "code",
   "execution_count": 43,
   "id": "c3cc4143",
   "metadata": {},
   "outputs": [
    {
     "data": {
      "text/html": [
       "<div>\n",
       "<style scoped>\n",
       "    .dataframe tbody tr th:only-of-type {\n",
       "        vertical-align: middle;\n",
       "    }\n",
       "\n",
       "    .dataframe tbody tr th {\n",
       "        vertical-align: top;\n",
       "    }\n",
       "\n",
       "    .dataframe thead th {\n",
       "        text-align: right;\n",
       "    }\n",
       "</style>\n",
       "<table border=\"1\" class=\"dataframe\">\n",
       "  <thead>\n",
       "    <tr style=\"text-align: right;\">\n",
       "      <th></th>\n",
       "      <th>Id</th>\n",
       "      <th>Verified</th>\n",
       "      <th>Reviews</th>\n",
       "      <th>reviews</th>\n",
       "      <th>neg</th>\n",
       "      <th>neu</th>\n",
       "      <th>pos</th>\n",
       "      <th>compound</th>\n",
       "      <th>negative</th>\n",
       "      <th>neutral</th>\n",
       "      <th>positive</th>\n",
       "      <th>reviews_column</th>\n",
       "    </tr>\n",
       "  </thead>\n",
       "  <tbody>\n",
       "    <tr>\n",
       "      <th>0</th>\n",
       "      <td>0</td>\n",
       "      <td>Not Verified</td>\n",
       "      <td>boarded on time, but it took ages to get to ...</td>\n",
       "      <td>boarded on time but it took ages to get to t...</td>\n",
       "      <td>0.0</td>\n",
       "      <td>0.931</td>\n",
       "      <td>0.069</td>\n",
       "      <td>0.5927</td>\n",
       "      <td>0.018204</td>\n",
       "      <td>0.172404</td>\n",
       "      <td>0.809392</td>\n",
       "      <td>roberta_pos</td>\n",
       "    </tr>\n",
       "  </tbody>\n",
       "</table>\n",
       "</div>"
      ],
      "text/plain": [
       "   Id       Verified                                            Reviews  \\\n",
       "0   0  Not Verified     boarded on time, but it took ages to get to ...   \n",
       "\n",
       "                                             reviews  neg    neu    pos  \\\n",
       "0    boarded on time but it took ages to get to t...  0.0  0.931  0.069   \n",
       "\n",
       "   compound  negative   neutral  positive reviews_column  \n",
       "0    0.5927  0.018204  0.172404  0.809392    roberta_pos  "
      ]
     },
     "execution_count": 43,
     "metadata": {},
     "output_type": "execute_result"
    }
   ],
   "source": [
    "df.head(1)"
   ]
  },
  {
   "cell_type": "code",
   "execution_count": 44,
   "id": "3a3949a2",
   "metadata": {},
   "outputs": [],
   "source": [
    "def highest_column(row):\n",
    "    return row.idxmax()\n",
    "\n",
    "# Create a new column with the column name of the highest value\n",
    "df['reviews_sentiment'] = df[['negative', 'neutral', 'positive']].apply(highest_column, axis=1)\n",
    "\n"
   ]
  },
  {
   "cell_type": "code",
   "execution_count": 46,
   "id": "44839cdf",
   "metadata": {},
   "outputs": [],
   "source": [
    "df.drop(columns=['reviews_column'], inplace=True)"
   ]
  },
  {
   "cell_type": "code",
   "execution_count": 50,
   "id": "870d5499",
   "metadata": {},
   "outputs": [
    {
     "name": "stdout",
     "output_type": "stream",
     "text": [
      "[('flight', 1551), ('seat', 670), ('service', 534), ('hour', 489), ('british', 444), ('one', 429), ('london', 429), ('get', 419), ('would', 380), ('staff', 370)]\n"
     ]
    }
   ],
   "source": [
    "negative_reviews=df[df['reviews_sentiment']=='negative']\n",
    "\n",
    "from nltk.corpus import stopwords\n",
    "from nltk.stem import WordNetLemmatizer\n",
    "# Preprocess the text\n",
    "stop_words = set(stopwords.words('english'))\n",
    "lemmatizer = WordNetLemmatizer()\n",
    "\n",
    "negative_words=[]\n",
    "\n",
    "for review in negative_reviews['Reviews']:\n",
    "    words = review.split()\n",
    "    for word in words:\n",
    "        if word not in stop_words and len(word) > 2:\n",
    "            negative_words.append(lemmatizer.lemmatize(word))\n",
    "\n",
    "from collections import Counter\n",
    "word_counts = Counter(negative_words)\n",
    "leading_reasons = word_counts.most_common(10)\n",
    "\n",
    "print(leading_reasons)"
   ]
  },
  {
   "cell_type": "code",
   "execution_count": 71,
   "id": "c6d74a2a",
   "metadata": {},
   "outputs": [],
   "source": [
    "reasons=pd.DataFrame(leading_reasons).T"
   ]
  },
  {
   "cell_type": "code",
   "execution_count": 74,
   "id": "6ace2766",
   "metadata": {},
   "outputs": [],
   "source": [
    "reasons.columns=reasons.iloc[0]"
   ]
  },
  {
   "cell_type": "code",
   "execution_count": 76,
   "id": "fa4f76b2",
   "metadata": {},
   "outputs": [],
   "source": [
    "reasons=reasons.drop(0)"
   ]
  },
  {
   "cell_type": "code",
   "execution_count": 77,
   "id": "c2da2b32",
   "metadata": {},
   "outputs": [
    {
     "data": {
      "text/html": [
       "<div>\n",
       "<style scoped>\n",
       "    .dataframe tbody tr th:only-of-type {\n",
       "        vertical-align: middle;\n",
       "    }\n",
       "\n",
       "    .dataframe tbody tr th {\n",
       "        vertical-align: top;\n",
       "    }\n",
       "\n",
       "    .dataframe thead th {\n",
       "        text-align: right;\n",
       "    }\n",
       "</style>\n",
       "<table border=\"1\" class=\"dataframe\">\n",
       "  <thead>\n",
       "    <tr style=\"text-align: right;\">\n",
       "      <th></th>\n",
       "      <th>flight</th>\n",
       "      <th>seat</th>\n",
       "      <th>service</th>\n",
       "      <th>hour</th>\n",
       "      <th>british</th>\n",
       "      <th>one</th>\n",
       "      <th>london</th>\n",
       "      <th>get</th>\n",
       "      <th>would</th>\n",
       "      <th>staff</th>\n",
       "    </tr>\n",
       "  </thead>\n",
       "  <tbody>\n",
       "    <tr>\n",
       "      <th>1</th>\n",
       "      <td>1551</td>\n",
       "      <td>670</td>\n",
       "      <td>534</td>\n",
       "      <td>489</td>\n",
       "      <td>444</td>\n",
       "      <td>429</td>\n",
       "      <td>429</td>\n",
       "      <td>419</td>\n",
       "      <td>380</td>\n",
       "      <td>370</td>\n",
       "    </tr>\n",
       "  </tbody>\n",
       "</table>\n",
       "</div>"
      ],
      "text/plain": [
       "0 flight seat service hour british  one london  get would staff\n",
       "1   1551  670     534  489     444  429    429  419   380   370"
      ]
     },
     "execution_count": 77,
     "metadata": {},
     "output_type": "execute_result"
    }
   ],
   "source": [
    "reasons"
   ]
  },
  {
   "cell_type": "code",
   "execution_count": 86,
   "id": "5d843fc9",
   "metadata": {},
   "outputs": [
    {
     "data": {
      "text/plain": [
       "<Axes: xlabel='0'>"
      ]
     },
     "execution_count": 86,
     "metadata": {},
     "output_type": "execute_result"
    },
    {
     "data": {
      "image/png": "[encoded data removed]",
      "text/plain": [
       "<Figure size 640x480 with 1 Axes>"
      ]
     },
     "metadata": {},
     "output_type": "display_data"
    }
   ],
   "source": [
    "import seaborn as sns\n",
    "sns.barplot(reasons)"
   ]
  },
  {
   "cell_type": "code",
   "execution_count": 47,
   "id": "b2437ee6",
   "metadata": {},
   "outputs": [
    {
     "data": {
      "image/png": "[encoded data removed]",
      "text/plain": [
       "<Figure size 640x480 with 1 Axes>"
      ]
     },
     "metadata": {},
     "output_type": "display_data"
    }
   ],
   "source": [
    "import matplotlib.pyplot as plt\n",
    "reviews_counts = df['reviews_sentiment'].value_counts()\n",
    "plt.pie(reviews_counts, labels=reviews_counts.index, autopct=\"%1.1f%%\")\n",
    "plt.title(\"Pie Chart of Highest Value Counts\")\n",
    "plt.show()"
   ]
  },
  {
   "cell_type": "code",
   "execution_count": 48,
   "id": "8425d1cb",
   "metadata": {},
   "outputs": [
    {
     "data": {
      "text/plain": [
       "<BarContainer object of 3 artists>"
      ]
     },
     "execution_count": 48,
     "metadata": {},
     "output_type": "execute_result"
    },
    {
     "data": {
      "image/png": "[encoded data removed]",
      "text/plain": [
       "<Figure size 640x480 with 1 Axes>"
      ]
     },
     "metadata": {},
     "output_type": "display_data"
    }
   ],
   "source": [
    "plt.bar(reviews_counts.index, reviews_counts.values)"
   ]
  },
  {
   "cell_type": "code",
   "execution_count": 54,
   "id": "3d945092",
   "metadata": {},
   "outputs": [
    {
     "name": "stdout",
     "output_type": "stream",
     "text": [
      "Requirement already satisfied: h5py in c:\\users\\dell\\anaconda3\\lib\\site-packages (3.7.0)\n",
      "Requirement already satisfied: numpy>=1.14.5 in c:\\users\\dell\\anaconda3\\lib\\site-packages (from h5py) (1.23.5)\n",
      "Note: you may need to restart the kernel to use updated packages.\n"
     ]
    }
   ],
   "source": [
    "pip install h5py"
   ]
  }
 ],
 "metadata": {
  "kernelspec": {
   "display_name": "Python 3 (ipykernel)",
   "language": "python",
   "name": "python3"
  },
  "language_info": {
   "codemirror_mode": {
    "name": "ipython",
    "version": 3
   },
   "file_extension": ".py",
   "mimetype": "text/x-python",
   "name": "python",
   "nbconvert_exporter": "python",
   "pygments_lexer": "ipython3",
   "version": "3.10.9"
  }
 },
 "nbformat": 4,
 "nbformat_minor": 5
}
